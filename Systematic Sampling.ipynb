{
 "cells": [
  {
   "cell_type": "code",
   "execution_count": 2,
   "id": "3db4ea1b-00f5-4d81-8528-89eb18bfe795",
   "metadata": {},
   "outputs": [],
   "source": [
    "import numpy as np"
   ]
  },
  {
   "cell_type": "code",
   "execution_count": 10,
   "id": "43054d53-eb3e-4c0c-8f95-de3d5a915ff7",
   "metadata": {},
   "outputs": [],
   "source": [
    "def systematic_sampling(data, sample_size):\n",
    "    N=len(data)\n",
    "    K=N//sample_size\n",
    "    start=np.random.randint(0,K)\n",
    "    indices=range(start,N,K)\n",
    "    systematic_sample=[data[i] for i in indices]\n",
    "    return systematic_sample"
   ]
  },
  {
   "cell_type": "code",
   "execution_count": 11,
   "id": "cb6ed4fc-bd30-44fa-bfaa-cd0aeeb63b7c",
   "metadata": {},
   "outputs": [
    {
     "name": "stdout",
     "output_type": "stream",
     "text": [
      "sample Data [5, 15, 25, 35, 45, 55, 65, 75, 85, 95]\n"
     ]
    }
   ],
   "source": [
    "data=np.arange(1, 101)\n",
    "sample_size=10\n",
    "sample=systematic_sampling(data, sample_size)\n",
    "print('sample Data',sample)"
   ]
  }
 ],
 "metadata": {
  "kernelspec": {
   "display_name": "Python 3 (ipykernel)",
   "language": "python",
   "name": "python3"
  },
  "language_info": {
   "codemirror_mode": {
    "name": "ipython",
    "version": 3
   },
   "file_extension": ".py",
   "mimetype": "text/x-python",
   "name": "python",
   "nbconvert_exporter": "python",
   "pygments_lexer": "ipython3",
   "version": "3.11.7"
  }
 },
 "nbformat": 4,
 "nbformat_minor": 5
}
