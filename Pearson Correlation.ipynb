{
 "cells": [
  {
   "cell_type": "code",
   "execution_count": 2,
   "id": "5ca66cea-0b3e-4310-b398-aa5a41291888",
   "metadata": {},
   "outputs": [],
   "source": [
    "import pandas as pd\n",
    "from scipy.stats import pearsonr"
   ]
  },
  {
   "cell_type": "code",
   "execution_count": 3,
   "id": "05ab2683-e1ae-4251-8aa9-de2fc11cc13a",
   "metadata": {},
   "outputs": [],
   "source": [
    "data={'variable1':[10,20,30,40,50],\n",
    "      'variable2':[15,25,35,45,55]}"
   ]
  },
  {
   "cell_type": "code",
   "execution_count": 4,
   "id": "0bb864a8-3215-46a0-adb0-d5921ecca0fc",
   "metadata": {},
   "outputs": [],
   "source": [
    "df = pd.DataFrame(data)"
   ]
  },
  {
   "cell_type": "code",
   "execution_count": 8,
   "id": "238e2275-aa79-43e0-b036-7e5dc25284f2",
   "metadata": {},
   "outputs": [
    {
     "name": "stdout",
     "output_type": "stream",
     "text": [
      "pearson's correlation cooefficient is: 1.00\n"
     ]
    }
   ],
   "source": [
    "correlation,_=pearsonr(df['variable1'], df['variable2'])\n",
    "print(f\"pearson's correlation cooefficient is: {correlation:.2f}\")"
   ]
  }
 ],
 "metadata": {
  "kernelspec": {
   "display_name": "Python 3 (ipykernel)",
   "language": "python",
   "name": "python3"
  },
  "language_info": {
   "codemirror_mode": {
    "name": "ipython",
    "version": 3
   },
   "file_extension": ".py",
   "mimetype": "text/x-python",
   "name": "python",
   "nbconvert_exporter": "python",
   "pygments_lexer": "ipython3",
   "version": "3.11.7"
  }
 },
 "nbformat": 4,
 "nbformat_minor": 5
}
