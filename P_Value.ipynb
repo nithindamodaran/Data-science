{
 "cells": [
  {
   "cell_type": "code",
   "execution_count": 1,
   "id": "b8ec4ab3-ea8b-4c76-8293-dce03d227476",
   "metadata": {},
   "outputs": [],
   "source": [
    "import numpy as np\n",
    "from scipy import stats"
   ]
  },
  {
   "cell_type": "code",
   "execution_count": 2,
   "id": "4a41dc63-f4e9-4b4d-92ad-410d27a7614c",
   "metadata": {},
   "outputs": [],
   "source": [
    "data = np.random.normal(loc=0, scale=1, size=30)"
   ]
  },
  {
   "cell_type": "code",
   "execution_count": 3,
   "id": "73306545-5ca3-4340-acf6-f03ec157ee3d",
   "metadata": {},
   "outputs": [],
   "source": [
    "t_stat, p_value= stats.ttest_1samp(data,popmean=0)"
   ]
  },
  {
   "cell_type": "code",
   "execution_count": 5,
   "id": "39198447-e391-4d38-9e6e-131845cce2c8",
   "metadata": {},
   "outputs": [
    {
     "name": "stdout",
     "output_type": "stream",
     "text": [
      "T-statistic: 0.4345983210765939\n"
     ]
    }
   ],
   "source": [
    "print('T-statistic:',t_stat)"
   ]
  },
  {
   "cell_type": "code",
   "execution_count": 6,
   "id": "ddd7f7d4-1c4c-4d9d-a070-322eb21f902d",
   "metadata": {},
   "outputs": [
    {
     "name": "stdout",
     "output_type": "stream",
     "text": [
      "P-value: 0.6670708421610669\n"
     ]
    }
   ],
   "source": [
    "print('P-value:',p_value)"
   ]
  }
 ],
 "metadata": {
  "kernelspec": {
   "display_name": "Python 3 (ipykernel)",
   "language": "python",
   "name": "python3"
  },
  "language_info": {
   "codemirror_mode": {
    "name": "ipython",
    "version": 3
   },
   "file_extension": ".py",
   "mimetype": "text/x-python",
   "name": "python",
   "nbconvert_exporter": "python",
   "pygments_lexer": "ipython3",
   "version": "3.11.7"
  }
 },
 "nbformat": 4,
 "nbformat_minor": 5
}
