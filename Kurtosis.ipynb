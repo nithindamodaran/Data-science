{
 "cells": [
  {
   "cell_type": "code",
   "execution_count": 1,
   "id": "acfab58f-2e9c-4f3a-954b-2b0bfbf2b4c4",
   "metadata": {},
   "outputs": [],
   "source": [
    "import pandas as pd\n",
    "from scipy.stats import kurtosis"
   ]
  },
  {
   "cell_type": "code",
   "execution_count": 2,
   "id": "4e96a060-b358-4d43-875c-13aa035c7b96",
   "metadata": {},
   "outputs": [],
   "source": [
    "data={'values': [10,20,20,20,30,30,30,30,100]}\n",
    "df=pd.DataFrame(data)"
   ]
  },
  {
   "cell_type": "code",
   "execution_count": 3,
   "id": "2613dd50-4427-43c7-a20e-fc2ba22da11c",
   "metadata": {},
   "outputs": [
    {
     "name": "stdout",
     "output_type": "stream",
     "text": [
      "kurtosis of the distribution: 3.2443679999999997\n"
     ]
    }
   ],
   "source": [
    "kurt_value = kurtosis(df['values'],fisher=True)\n",
    "print('kurtosis of the distribution:',kurt_value)"
   ]
  },
  {
   "cell_type": "code",
   "execution_count": 4,
   "id": "56dfa911-1d09-45a6-8c42-088dc22ae52a",
   "metadata": {},
   "outputs": [
    {
     "name": "stdout",
     "output_type": "stream",
     "text": [
      "pandas kurtosis of the distribution: 7.322605714285714\n"
     ]
    }
   ],
   "source": [
    "pandas_kurtosis = df['values'].kurtosis()\n",
    "print('pandas kurtosis of the distribution:',pandas_kurtosis)"
   ]
  }
 ],
 "metadata": {
  "kernelspec": {
   "display_name": "Python 3 (ipykernel)",
   "language": "python",
   "name": "python3"
  },
  "language_info": {
   "codemirror_mode": {
    "name": "ipython",
    "version": 3
   },
   "file_extension": ".py",
   "mimetype": "text/x-python",
   "name": "python",
   "nbconvert_exporter": "python",
   "pygments_lexer": "ipython3",
   "version": "3.11.7"
  }
 },
 "nbformat": 4,
 "nbformat_minor": 5
}
