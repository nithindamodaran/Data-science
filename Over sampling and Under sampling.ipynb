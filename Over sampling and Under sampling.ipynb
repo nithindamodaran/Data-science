{
 "cells": [
  {
   "cell_type": "code",
   "execution_count": 2,
   "id": "237fb045-d5bc-4ba1-8b2d-aee5571f013c",
   "metadata": {},
   "outputs": [],
   "source": [
    "from imblearn.over_sampling import SMOTE\n",
    "from imblearn.under_sampling import RandomUnderSampler\n",
    "from sklearn.datasets import make_classification\n",
    "from collections import Counter"
   ]
  },
  {
   "cell_type": "code",
   "execution_count": 4,
   "id": "1ed802b4-6f4e-4b19-a161-bcfa3228a001",
   "metadata": {},
   "outputs": [],
   "source": [
    "x,y=make_classification(n_classes=2, class_sep=2, weights=[0.1,0.9],\n",
    "                        n_informative=3, n_redundant=1, n_features=20, n_clusters_per_class=1,\n",
    "                        n_samples=1000, random_state=10)"
   ]
  },
  {
   "cell_type": "code",
   "execution_count": 6,
   "id": "292d8233-031e-4782-9f15-4a8dd35d874d",
   "metadata": {},
   "outputs": [
    {
     "name": "stdout",
     "output_type": "stream",
     "text": [
      "orginal dataset shape Counter({1: 897, 0: 103})\n"
     ]
    }
   ],
   "source": [
    "print('orginal dataset shape % s' % Counter(y))"
   ]
  },
  {
   "cell_type": "code",
   "execution_count": 7,
   "id": "f9ed9a50-9174-4cb0-ae41-2528317dc109",
   "metadata": {},
   "outputs": [
    {
     "name": "stdout",
     "output_type": "stream",
     "text": [
      "resample dataset shape Counter({1: 897, 0: 897})\n"
     ]
    }
   ],
   "source": [
    "sm=SMOTE(random_state=42)\n",
    "x_res, y_res = sm.fit_resample(x,y)\n",
    "print(\"resample dataset shape %s\" % Counter(y_res))"
   ]
  },
  {
   "cell_type": "code",
   "execution_count": 8,
   "id": "584fca2f-62a9-4aa0-b30b-75480859e0ae",
   "metadata": {},
   "outputs": [
    {
     "name": "stdout",
     "output_type": "stream",
     "text": [
      "resampled dataset shape Counter({0: 103, 1: 103})\n"
     ]
    }
   ],
   "source": [
    "rus = RandomUnderSampler(random_state=42)\n",
    "x_resampled, y_resampled =rus.fit_resample(x,y)\n",
    "print(\"resampled dataset shape %s\" % Counter(y_resampled))"
   ]
  }
 ],
 "metadata": {
  "kernelspec": {
   "display_name": "Python 3 (ipykernel)",
   "language": "python",
   "name": "python3"
  },
  "language_info": {
   "codemirror_mode": {
    "name": "ipython",
    "version": 3
   },
   "file_extension": ".py",
   "mimetype": "text/x-python",
   "name": "python",
   "nbconvert_exporter": "python",
   "pygments_lexer": "ipython3",
   "version": "3.11.7"
  }
 },
 "nbformat": 4,
 "nbformat_minor": 5
}
