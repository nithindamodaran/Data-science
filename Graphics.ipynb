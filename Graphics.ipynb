{
 "cells": [
  {
   "cell_type": "code",
   "execution_count": 1,
   "id": "45613733-dd52-4c51-893e-2e152a720e5b",
   "metadata": {},
   "outputs": [],
   "source": [
    "import turtle as r\n",
    "r.bgcolor(\"black\")\n",
    "r.pencolor(\"aqua\")\n",
    "r.title(\"studyMuch\")\n",
    "r.speed(0)\n",
    "r.width(3)"
   ]
  },
  {
   "cell_type": "code",
   "execution_count": 2,
   "id": "4ef481b6-c5b2-4c14-a97d-e07b7c06d279",
   "metadata": {},
   "outputs": [],
   "source": [
    "def form(x):\n",
    "    r.circle(100,x)\n",
    "    r.penup()\n",
    "    r.goto(0,0)\n",
    "    r.pendown()\n",
    "    r.circle(-100,x)"
   ]
  },
  {
   "cell_type": "code",
   "execution_count": 6,
   "id": "88e2483e-8a52-4efc-b466-53e39e99efde",
   "metadata": {},
   "outputs": [
    {
     "ename": "Terminator",
     "evalue": "",
     "output_type": "error",
     "traceback": [
      "\u001b[1;31m---------------------------------------------------------------------------\u001b[0m",
      "\u001b[1;31mTerminator\u001b[0m                                Traceback (most recent call last)",
      "Cell \u001b[1;32mIn[6], line 5\u001b[0m\n\u001b[0;32m      2\u001b[0m     \u001b[38;5;28;01mfor\u001b[39;00m i \u001b[38;5;129;01min\u001b[39;00m \u001b[38;5;28mrange\u001b[39m(\u001b[38;5;241m0\u001b[39m,\u001b[38;5;241m140\u001b[39m,\u001b[38;5;241m10\u001b[39m):\n\u001b[0;32m      3\u001b[0m         form(i)\n\u001b[1;32m----> 5\u001b[0m leaf()\n\u001b[0;32m      6\u001b[0m r\u001b[38;5;241m.\u001b[39msetheading(\u001b[38;5;241m90\u001b[39m)\n\u001b[0;32m      7\u001b[0m leaf()\n",
      "Cell \u001b[1;32mIn[6], line 3\u001b[0m, in \u001b[0;36mleaf\u001b[1;34m()\u001b[0m\n\u001b[0;32m      1\u001b[0m \u001b[38;5;28;01mdef\u001b[39;00m \u001b[38;5;21mleaf\u001b[39m():\n\u001b[0;32m      2\u001b[0m     \u001b[38;5;28;01mfor\u001b[39;00m i \u001b[38;5;129;01min\u001b[39;00m \u001b[38;5;28mrange\u001b[39m(\u001b[38;5;241m0\u001b[39m,\u001b[38;5;241m140\u001b[39m,\u001b[38;5;241m10\u001b[39m):\n\u001b[1;32m----> 3\u001b[0m         form(i)\n",
      "Cell \u001b[1;32mIn[2], line 2\u001b[0m, in \u001b[0;36mform\u001b[1;34m(x)\u001b[0m\n\u001b[0;32m      1\u001b[0m \u001b[38;5;28;01mdef\u001b[39;00m \u001b[38;5;21mform\u001b[39m(x):\n\u001b[1;32m----> 2\u001b[0m     r\u001b[38;5;241m.\u001b[39mcircle(\u001b[38;5;241m100\u001b[39m,x)\n\u001b[0;32m      3\u001b[0m     r\u001b[38;5;241m.\u001b[39mpenup()\n\u001b[0;32m      4\u001b[0m     r\u001b[38;5;241m.\u001b[39mgoto(\u001b[38;5;241m0\u001b[39m,\u001b[38;5;241m0\u001b[39m)\n",
      "File \u001b[1;32m<string>:8\u001b[0m, in \u001b[0;36mcircle\u001b[1;34m(radius, extent, steps)\u001b[0m\n",
      "File \u001b[1;32mC:\\ProgramData\\anaconda3\\Lib\\turtle.py:1993\u001b[0m, in \u001b[0;36mTNavigator.circle\u001b[1;34m(self, radius, extent, steps)\u001b[0m\n\u001b[0;32m   1991\u001b[0m     \u001b[38;5;28mself\u001b[39m\u001b[38;5;241m.\u001b[39mspeed(speed)\n\u001b[0;32m   1992\u001b[0m     \u001b[38;5;28mself\u001b[39m\u001b[38;5;241m.\u001b[39m_go(l)\n\u001b[1;32m-> 1993\u001b[0m     \u001b[38;5;28mself\u001b[39m\u001b[38;5;241m.\u001b[39mspeed(\u001b[38;5;241m0\u001b[39m)\n\u001b[0;32m   1994\u001b[0m     \u001b[38;5;28mself\u001b[39m\u001b[38;5;241m.\u001b[39m_rotate(w)\n\u001b[0;32m   1995\u001b[0m \u001b[38;5;28mself\u001b[39m\u001b[38;5;241m.\u001b[39m_rotate(\u001b[38;5;241m-\u001b[39mw2)\n",
      "File \u001b[1;32mC:\\ProgramData\\anaconda3\\Lib\\turtle.py:2175\u001b[0m, in \u001b[0;36mTPen.speed\u001b[1;34m(self, speed)\u001b[0m\n\u001b[0;32m   2173\u001b[0m \u001b[38;5;28;01melse\u001b[39;00m:\n\u001b[0;32m   2174\u001b[0m     speed \u001b[38;5;241m=\u001b[39m \u001b[38;5;241m0\u001b[39m\n\u001b[1;32m-> 2175\u001b[0m \u001b[38;5;28mself\u001b[39m\u001b[38;5;241m.\u001b[39mpen(speed\u001b[38;5;241m=\u001b[39mspeed)\n",
      "File \u001b[1;32mC:\\ProgramData\\anaconda3\\Lib\\turtle.py:2460\u001b[0m, in \u001b[0;36mTPen.pen\u001b[1;34m(self, pen, **pendict)\u001b[0m\n\u001b[0;32m   2457\u001b[0m     sa, ca \u001b[38;5;241m=\u001b[39m math\u001b[38;5;241m.\u001b[39msin(\u001b[38;5;28mself\u001b[39m\u001b[38;5;241m.\u001b[39m_tilt), math\u001b[38;5;241m.\u001b[39mcos(\u001b[38;5;28mself\u001b[39m\u001b[38;5;241m.\u001b[39m_tilt)\n\u001b[0;32m   2458\u001b[0m     \u001b[38;5;28mself\u001b[39m\u001b[38;5;241m.\u001b[39m_shapetrafo \u001b[38;5;241m=\u001b[39m ( scx\u001b[38;5;241m*\u001b[39mca, scy\u001b[38;5;241m*\u001b[39m(shf\u001b[38;5;241m*\u001b[39mca \u001b[38;5;241m+\u001b[39m sa),\n\u001b[0;32m   2459\u001b[0m                         \u001b[38;5;241m-\u001b[39mscx\u001b[38;5;241m*\u001b[39msa, scy\u001b[38;5;241m*\u001b[39m(ca \u001b[38;5;241m-\u001b[39m shf\u001b[38;5;241m*\u001b[39msa))\n\u001b[1;32m-> 2460\u001b[0m \u001b[38;5;28mself\u001b[39m\u001b[38;5;241m.\u001b[39m_update()\n",
      "File \u001b[1;32mC:\\ProgramData\\anaconda3\\Lib\\turtle.py:2661\u001b[0m, in \u001b[0;36mRawTurtle._update\u001b[1;34m(self)\u001b[0m\n\u001b[0;32m   2659\u001b[0m     \u001b[38;5;28;01mreturn\u001b[39;00m\n\u001b[0;32m   2660\u001b[0m \u001b[38;5;28;01melif\u001b[39;00m screen\u001b[38;5;241m.\u001b[39m_tracing \u001b[38;5;241m==\u001b[39m \u001b[38;5;241m1\u001b[39m:\n\u001b[1;32m-> 2661\u001b[0m     \u001b[38;5;28mself\u001b[39m\u001b[38;5;241m.\u001b[39m_update_data()\n\u001b[0;32m   2662\u001b[0m     \u001b[38;5;28mself\u001b[39m\u001b[38;5;241m.\u001b[39m_drawturtle()\n\u001b[0;32m   2663\u001b[0m     screen\u001b[38;5;241m.\u001b[39m_update()                  \u001b[38;5;66;03m# TurtleScreenBase\u001b[39;00m\n",
      "File \u001b[1;32mC:\\ProgramData\\anaconda3\\Lib\\turtle.py:2647\u001b[0m, in \u001b[0;36mRawTurtle._update_data\u001b[1;34m(self)\u001b[0m\n\u001b[0;32m   2646\u001b[0m \u001b[38;5;28;01mdef\u001b[39;00m \u001b[38;5;21m_update_data\u001b[39m(\u001b[38;5;28mself\u001b[39m):\n\u001b[1;32m-> 2647\u001b[0m     \u001b[38;5;28mself\u001b[39m\u001b[38;5;241m.\u001b[39mscreen\u001b[38;5;241m.\u001b[39m_incrementudc()\n\u001b[0;32m   2648\u001b[0m     \u001b[38;5;28;01mif\u001b[39;00m \u001b[38;5;28mself\u001b[39m\u001b[38;5;241m.\u001b[39mscreen\u001b[38;5;241m.\u001b[39m_updatecounter \u001b[38;5;241m!=\u001b[39m \u001b[38;5;241m0\u001b[39m:\n\u001b[0;32m   2649\u001b[0m         \u001b[38;5;28;01mreturn\u001b[39;00m\n",
      "File \u001b[1;32mC:\\ProgramData\\anaconda3\\Lib\\turtle.py:1293\u001b[0m, in \u001b[0;36mTurtleScreen._incrementudc\u001b[1;34m(self)\u001b[0m\n\u001b[0;32m   1291\u001b[0m \u001b[38;5;28;01mif\u001b[39;00m \u001b[38;5;129;01mnot\u001b[39;00m TurtleScreen\u001b[38;5;241m.\u001b[39m_RUNNING:\n\u001b[0;32m   1292\u001b[0m     TurtleScreen\u001b[38;5;241m.\u001b[39m_RUNNING \u001b[38;5;241m=\u001b[39m \u001b[38;5;28;01mTrue\u001b[39;00m\n\u001b[1;32m-> 1293\u001b[0m     \u001b[38;5;28;01mraise\u001b[39;00m Terminator\n\u001b[0;32m   1294\u001b[0m \u001b[38;5;28;01mif\u001b[39;00m \u001b[38;5;28mself\u001b[39m\u001b[38;5;241m.\u001b[39m_tracing \u001b[38;5;241m>\u001b[39m \u001b[38;5;241m0\u001b[39m:\n\u001b[0;32m   1295\u001b[0m     \u001b[38;5;28mself\u001b[39m\u001b[38;5;241m.\u001b[39m_updatecounter \u001b[38;5;241m+\u001b[39m\u001b[38;5;241m=\u001b[39m \u001b[38;5;241m1\u001b[39m\n",
      "\u001b[1;31mTerminator\u001b[0m: "
     ]
    }
   ],
   "source": [
    "def leaf():\n",
    "    for i in range(0,140,10):\n",
    "        form(i)\n",
    "\n",
    "leaf()\n",
    "r.setheading(90)\n",
    "leaf()\n",
    "r.setheading(180)\n",
    "leaf()\n",
    "r.setheading(270)\n",
    "leaf()\n",
    "r.exitonclick()\n",
    "r.done()"
   ]
  },
  {
   "cell_type": "code",
   "execution_count": null,
   "id": "7f2a67c1-60b4-4072-b818-b24d754d1bb9",
   "metadata": {},
   "outputs": [],
   "source": []
  }
 ],
 "metadata": {
  "kernelspec": {
   "display_name": "Python 3 (ipykernel)",
   "language": "python",
   "name": "python3"
  },
  "language_info": {
   "codemirror_mode": {
    "name": "ipython",
    "version": 3
   },
   "file_extension": ".py",
   "mimetype": "text/x-python",
   "name": "python",
   "nbconvert_exporter": "python",
   "pygments_lexer": "ipython3",
   "version": "3.11.7"
  }
 },
 "nbformat": 4,
 "nbformat_minor": 5
}
